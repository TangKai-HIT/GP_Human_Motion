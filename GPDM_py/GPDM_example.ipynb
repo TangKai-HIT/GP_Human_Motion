{
 "cells": [
  {
   "cell_type": "markdown",
   "metadata": {},
   "source": [
    "# Comparison of three dimension reduction techniques: PCA, GPLVM, and GPDM\n",
    "From [Gregory Gundersen's Blog: GPDM paper](https://gregorygundersen.com/blog/2020/07/24/gpdm/)"
   ]
  },
  {
   "cell_type": "markdown",
   "metadata": {},
   "source": [
    "##  1.Generating the data:"
   ]
  },
  {
   "cell_type": "code",
   "execution_count": 7,
   "metadata": {
    "tags": []
   },
   "outputs": [],
   "source": [
    "import numpy as np\n",
    "from  sklearn.datasets import make_s_curve\n",
    "\n",
    "# \n",
    "def gen_data():\n",
    "    T    = 200\n",
    "    J    = 40\n",
    "    X, t = make_s_curve(T)\n",
    "    X    = np.delete(X, obj=1, axis=1)\n",
    "    X    = X / np.std(X, axis=0)\n",
    "    D    = X.shape[1]\n",
    "    inds = t.argsort()\n",
    "    X    = X[inds]\n",
    "    t    = t[inds]\n",
    "    K    = rbf_kernel(X, 1, 1, 0)\n",
    "    F    = np.random.multivariate_normal(np.zeros(T), K, size=J).T\n",
    "    Y    = F + np.random.normal(0, scale=1, size=F.shape)\n",
    "    return X, Y, t\n",
    "\n",
    "\n",
    "def rbf_kernel(X, var, length_scale, diag):\n",
    "    T = len(X)\n",
    "    diffs = np.expand_dims(X / length_scale, 1) \\\n",
    "          - np.expand_dims(X / length_scale, 0)\n",
    "    return var * np.exp(-0.5 * np.sum(diffs ** 2, axis=2)) + diag * np.eye(T)"
   ]
  },
  {
   "cell_type": "markdown",
   "metadata": {},
   "source": [
    "## 2.Fitting a GPDM"
   ]
  },
  {
   "cell_type": "code",
   "execution_count": 8,
   "metadata": {},
   "outputs": [],
   "source": [
    "import autograd.numpy as np\n",
    "from   autograd import grad\n",
    "from   scipy.optimize import fmin_l_bfgs_b\n",
    "from   sklearn.decomposition import PCA\n",
    "\n",
    "\n",
    "def log_posterior(Y, X, beta, alpha):\n",
    "    _, J = Y.shape\n",
    "\n",
    "    K_Y      = rbf_kernel(X, *beta)\n",
    "    det_term = -J/2 * np.prod(np.linalg.slogdet(K_Y))\n",
    "    tr_term  = -1/2 * np.trace(np.linalg.inv(K_Y) @ Y @ Y.T)\n",
    "    LL       = det_term + tr_term\n",
    "\n",
    "    K_X      = rbf_linear_kernel(X[:-1], *alpha)\n",
    "    X_bar    = X[1:]\n",
    "    det_term = -D/2 * np.prod(np.linalg.slogdet(K_X))\n",
    "    tr_term  = -1/2 * np.trace(np.linalg.inv(K_X) @ X_bar @ X_bar.T)\n",
    "    LP       = det_term + tr_term\n",
    "\n",
    "    return LL + LP\n",
    "\n",
    "\n",
    "def rbf_linear_kernel(X, var, length_scale, diag1, diag2):\n",
    "    rbf = rbf_kernel(X, length_scale, var, diag1)\n",
    "    linear = diag2 * X @ X.T\n",
    "    return rbf + linear\n",
    "\n",
    "\n",
    "def optimize_gpdm(Y, X0):\n",
    "    T, D = X0.shape\n",
    "\n",
    "    beta0 = np.array([1, 1, 1e-6])\n",
    "    alpha0 = np.array([1, 1, 1e-6, 1e-6])\n",
    "\n",
    "    def _neg_f(params):\n",
    "        X = params[:T*D].reshape(X0.shape)\n",
    "        beta = params[T*D:T*D+3]\n",
    "        alpha = params[T*D+3:]\n",
    "        return -1 * log_posterior(Y, X, beta, alpha)\n",
    "\n",
    "    _neg_fp = grad(_neg_f)\n",
    "    \n",
    "    def f_fp(params):\n",
    "        return _neg_f(params), _neg_fp(params)\n",
    "\n",
    "    x0 = np.concatenate([X0.flatten(), beta0, alpha0])\n",
    "    res = fmin_l_bfgs_b(f_fp, x0)\n",
    "    X_map = res[0][:T*D].reshape(X0.shape)\n",
    "\n",
    "    return X_map"
   ]
  },
  {
   "cell_type": "code",
   "execution_count": 27,
   "metadata": {
    "tags": []
   },
   "outputs": [
    {
     "data": {
      "image/png": "[encoded data removed]",
      "text/plain": [
       "<Figure size 432x288 with 1 Axes>"
      ]
     },
     "metadata": {
      "needs_background": "light"
     },
     "output_type": "display_data"
    }
   ],
   "source": [
    "import matplotlib.pyplot as plt\n",
    "X, Y, t = gen_data()\n",
    "\n",
    "plt.scatter(X[:,0], X[:,1])\n",
    "plt.title('S trajectory')\n",
    "plt.show()\n"
   ]
  },
  {
   "cell_type": "code",
   "execution_count": 26,
   "metadata": {},
   "outputs": [
    {
     "data": {
      "image/png": "[encoded data removed]",
      "text/plain": [
       "<Figure size 432x288 with 1 Axes>"
      ]
     },
     "metadata": {
      "needs_background": "light"
     },
     "output_type": "display_data"
    }
   ],
   "source": [
    "plt.scatter(Y[:,0], Y[:,1])\n",
    "plt.title('S trajectory with noise')\n",
    "plt.show()"
   ]
  }
 ],
 "metadata": {
  "kernelspec": {
   "display_name": "Python 3 (ipykernel)",
   "language": "python",
   "name": "python3"
  },
  "language_info": {
   "codemirror_mode": {
    "name": "ipython",
    "version": 3
   },
   "file_extension": ".py",
   "mimetype": "text/x-python",
   "name": "python",
   "nbconvert_exporter": "python",
   "pygments_lexer": "ipython3",
   "version": "3.7.3"
  },
  "vscode": {
   "interpreter": {
    "hash": "e572caa66b9d49951af5480c4e65bd874b4d163b9e077ed4369f2912d83d117b"
   }
  }
 },
 "nbformat": 4,
 "nbformat_minor": 4
}
